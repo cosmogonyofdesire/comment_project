{
 "cells": [
  {
   "cell_type": "markdown",
   "metadata": {
    "collapsed": true
   },
   "source": [
    "### Conferences Problem Set\n",
    "\n",
    "#### 1. Setting up HEADER and CONFERENCES\n",
    "\n",
    "You'll be working with a CSV file of all the Fall parent/teacher conferences. Read in the file called \"conferences_2022_232.csv\". Save the header column as `HEADER` and save the rest of the data into a list of lists called `CONFERENCES`.  Each list inside the `CONFERENCES` list will be the details of one student conference."
   ]
  },
  {
   "cell_type": "code",
   "execution_count": 1,
   "metadata": {},
   "outputs": [
    {
     "name": "stdout",
     "output_type": "stream",
     "text": [
      "['Combs', 'Sean \"Diddy\"', 'PhD.', 'Remote', 'Pigg', '---', 'Apperson', 'Sathyaraj', 'Miller', 'Orr', 'Al-Jawhari', '---', '---', '2022-11-18 12:00:00'] ---\n",
      "['Kardashian', 'Kim', 'JD', 'Remote', 'Weiler', '---', 'Zanchettin', 'Davis', '---', \"O'Hara, R\", 'Henkle', 'Apperson', '2022-11-17 14:00:00'] 2022-11-17 14:00:00\n"
     ]
    }
   ],
   "source": [
    "# insert 1\n",
    "import csv\n",
    "\n",
    "with open(\"conferences_2022_23.csv\") as confs:\n",
    "    data = csv.reader(confs)\n",
    "    HEADER = next(data)\n",
    "    CONFERENCES = []\n",
    "    for line in data:\n",
    "        CONFERENCES.append(line)\n",
    "#print(HEADER)\n",
    "#print(CONFERENCES[1])\n",
    "for line in CONFERENCES:\n",
    "    if line[3] != 'Day' and line[3] != 'Boarding':\n",
    "        print(line, line[12])\n",
    "# 0 last 1 first 2 grade 3 status 4 advisor 5 dorm parent 6-12 teachers 13 time"
   ]
  },
  {
   "cell_type": "raw",
   "metadata": {},
   "source": [
    "#### 2. Creating ADVISORS list\n",
    "\n",
    "Create a unique list or set called `ADVISORS` that contains all of the advisors. Then print out an alphabetically sorted and unique list of all the advisors and the total number of unique advisors."
   ]
  },
  {
   "cell_type": "code",
   "execution_count": 2,
   "metadata": {},
   "outputs": [
    {
     "name": "stdout",
     "output_type": "stream",
     "text": [
      "[\"A. O'Hara\", 'Al-Jawhari', 'Appel', 'Apperson', 'Biswas', 'Bournival', 'Boyle', 'Britton', 'Caditz', 'Cecere', 'Drugan', 'Fortner', 'Gilbride', 'Gregg', 'Grenert-Funk', 'Hale', 'Hansen', 'Henkle', 'Henry', 'Jelinek', 'Jewett', 'Kane', 'Kimball', 'McIvor', 'Meda', 'Odom', 'Orr', 'Perry', 'Pigg', 'Portman', 'Powers', 'Price', 'Primm', \"R. O'Hara\", 'Reaves', 'Sikkink', 'Slenning', 'Smith', 'Steele', 'Stone', 'Sullivan', 'Taylor', 'Test', 'Tokarski', 'Van Wickle', 'Weiler', 'Zanchettin'] 47\n"
     ]
    }
   ],
   "source": [
    "# insert 2\n",
    "ADVISORS = set([line[4] for line in CONFERENCES])\n",
    "print(sorted(ADVISORS), len(ADVISORS))"
   ]
  },
  {
   "cell_type": "markdown",
   "metadata": {},
   "source": [
    "3) It may have taken you several lines of code to make that advisor list. There is an easier way to do it. You can use what is called a list comprehension. Type:\n",
    "\n",
    "```python\n",
    "ADVISORS = [row[6] for row in CONFERENCES]\n",
    "```\n",
    "\n",
    "Verify that you get the same unique set of advisors and advisor length using this list comprehension. Google \"list comprehensions\" to read more if you want to write more elegant Pythonic code in less lines."
   ]
  },
  {
   "cell_type": "code",
   "execution_count": 3,
   "metadata": {},
   "outputs": [],
   "source": [
    "# insert 3\n",
    "# ...oops"
   ]
  },
  {
   "cell_type": "markdown",
   "metadata": {},
   "source": [
    "4) Make a dictionary called `ADVISOR_STUDENTS` where the key is the advisor and the value is the list of their advisees in form \"first name last name\". For example:\n",
    "\n",
    "```python\n",
    "'Al-Jawhari': ['Nathan Bender','Bela Doumbia','Chaela Dupuch','Shriya Myneni' ...]\n",
    "```"
   ]
  },
  {
   "cell_type": "code",
   "execution_count": 3,
   "metadata": {},
   "outputs": [
    {
     "name": "stdout",
     "output_type": "stream",
     "text": [
      "['Lina Paykar', 'Chaela Dupuch', 'Nisma Qureshi', 'Shriya Myneni', 'Bela Doumbia', 'Jenson Yu', 'Vikram Vallabhanath', 'Nathan Bender']\n"
     ]
    }
   ],
   "source": [
    "# insert 4\n",
    "ADVISOR_STUDENTS = {}\n",
    "for line in CONFERENCES:\n",
    "    if line[4] not in ADVISOR_STUDENTS.keys():\n",
    "        ADVISOR_STUDENTS[line[4]] = [f'{line[1]} {line[0]}']\n",
    "    else:\n",
    "        ADVISOR_STUDENTS[line[4]].append(f'{line[1]} {line[0]}')\n",
    "\n",
    "print(ADVISOR_STUDENTS['Al-Jawhari'])"
   ]
  },
  {
   "cell_type": "markdown",
   "metadata": {},
   "source": [
    "5) Access your dictionary to determine how many advisor conferences Dr. Drugan has and who the advisees are."
   ]
  },
  {
   "cell_type": "code",
   "execution_count": 24,
   "metadata": {},
   "outputs": [
    {
     "name": "stdout",
     "output_type": "stream",
     "text": [
      "7 ['Will Cohen', 'Owen Simpson', 'Andrew Tieu', 'Conrad Kelsay', 'Mathilde Copp', 'Athena Hsu-Chen']\n"
     ]
    }
   ],
   "source": [
    "# insert 5\n",
    "# Q: How many advisor conferences does Dr. Drugan have?\n",
    "# ANSWER: 7\n",
    "\n",
    "# your code here\n",
    "print(len(ADVISOR_STUDENTS['Drugan']),ADVISOR_STUDENTS['Odom'])"
   ]
  },
  {
   "cell_type": "markdown",
   "metadata": {},
   "source": [
    "6) Create a list of tuples to sort in decreasing order the advisors and the number of advisee conferences that they have. Who has the most?  Can you do this with a list comprehension?"
   ]
  },
  {
   "cell_type": "code",
   "execution_count": 5,
   "metadata": {},
   "outputs": [
    {
     "name": "stdout",
     "output_type": "stream",
     "text": [
      "[('Weiler', 15), ('Fortner', 9), (\"A. O'Hara\", 8), ('Powers', 8), ('Al-Jawhari', 8), ('Boyle', 8), ('Apperson', 7), ('Smith', 7), ('Drugan', 7), ('Perry', 7), ('Gilbride', 7), ('Sullivan', 7), ('Bournival', 7), ('Cecere', 7), ('Sikkink', 7), ('Appel', 7), ('Biswas', 7), ('Caditz', 7), ('Taylor', 7), (\"R. O'Hara\", 7), ('Primm', 7), ('Portman', 7), ('Kane', 7), ('Slenning', 7), ('Meda', 7), ('Jewett', 7), ('Hale', 7), ('McIvor', 7), ('Britton', 7), ('Kimball', 7), ('Orr', 7), ('Van Wickle', 7), ('Odom', 6), ('Stone', 6), ('Reaves', 6), ('Grenert-Funk', 6), ('Price', 6), ('Zanchettin', 6), ('Hansen', 6), ('Henkle', 6), ('Gregg', 6), ('Tokarski', 6), ('Henry', 5), ('Jelinek', 5), ('Steele', 4), ('Pigg', 1), ('Test', 1)]\n"
     ]
    }
   ],
   "source": [
    "# insert 6\n",
    "advconf = [(advisors, len(aconfs)) for (advisors, aconfs) in ADVISOR_STUDENTS.items()]\n",
    "print(sorted(advconf, key=lambda x : x[1], reverse=True))\n",
    "# weiler has the most"
   ]
  },
  {
   "cell_type": "markdown",
   "metadata": {},
   "source": [
    "7) Create a dictionary where the key is the grade level and the value is the number of kids in that grade. "
   ]
  },
  {
   "cell_type": "code",
   "execution_count": 6,
   "metadata": {},
   "outputs": [
    {
     "name": "stdout",
     "output_type": "stream",
     "text": [
      "{'10': 78, '11': 73, '12': 72, '9': 89, 'PhD.': 1, 'JD': 1}\n"
     ]
    }
   ],
   "source": [
    "# insert 7\n",
    "gradedict = {}\n",
    "for line in CONFERENCES:\n",
    "    gradedict[line[2]] = gradedict.get(line[2], 0) + 1\n",
    "print(gradedict)"
   ]
  },
  {
   "cell_type": "markdown",
   "metadata": {},
   "source": [
    "8) What are the names of the students who are not in the 9th, 10th, 11th or 12th grade?\n",
    "\n"
   ]
  },
  {
   "cell_type": "code",
   "execution_count": 7,
   "metadata": {},
   "outputs": [
    {
     "name": "stdout",
     "output_type": "stream",
     "text": [
      "Sean \"Diddy\" Combs\n",
      "Kim Kardashian\n"
     ]
    }
   ],
   "source": [
    "# your code here\n",
    "for line in CONFERENCES:\n",
    "    if line[2] not in ['9', '10', '11', '12']:\n",
    "        print(line[1], line[0])\n",
    "\n",
    "\n",
    "# Answer: Sean \"Diddy\" Combs, Kim Kardashian"
   ]
  },
  {
   "cell_type": "markdown",
   "metadata": {},
   "source": [
    "9) Print out each student who has their advisor also as one of their teachers and/or dorm parents.  How many students have this situation?"
   ]
  },
  {
   "cell_type": "code",
   "execution_count": 8,
   "metadata": {},
   "outputs": [
    {
     "name": "stdout",
     "output_type": "stream",
     "text": [
      "Ava Rose Deng\n",
      "Ben Korngold\n",
      "Lina Paykar\n",
      "Colton Prater\n",
      "Macy Gong\n",
      "Kamran Mohamedy\n",
      "Lucy Berglund\n",
      "Riley Smith\n",
      "Calvin Chang\n",
      "Maggie McCaffrey\n",
      "Colson Tubbs\n",
      "Theo Freres\n",
      "Ellis McAuley\n",
      "Georgia Scott\n",
      "Ahmed Sedik\n",
      "Ruth Kalu\n",
      "Cayton Smith\n",
      "Diego Frias\n",
      "Vector Fan\n",
      "Cici Ji\n",
      "Frank Kan\n",
      "Ella Li\n",
      "Will Su\n",
      "Branden Xia\n",
      "Temma Yamazaki\n",
      "Kaleia Tashima\n",
      "Amina Black\n",
      "Luke Aldrich\n",
      "Braeden Carter\n",
      "Cyrus Forney\n",
      "Knute Geary\n",
      "Ellis Halpin\n",
      "Kekoa Kim\n",
      "Will Sinkford\n",
      "Flynn Ferguson\n",
      "Bridget Murphy\n",
      "Mathilde Copp\n",
      "Ava Do\n",
      "Hafsa Erfan\n",
      "Matthew Inscore\n",
      "Ash Mathur\n",
      "Sean Murphy\n",
      "Kyle Nagahori\n",
      "Everett Roe\n",
      "Sanya Sanghvi\n",
      "Lucy Walkush\n",
      "Brooke Wieser\n",
      "Matthew TEST\n",
      "48\n"
     ]
    }
   ],
   "source": [
    "# insert 9\n",
    "count = 0\n",
    "for line in CONFERENCES:\n",
    "    if line[4] in line[5:13]:\n",
    "        count += 1\n",
    "        print(line[1], line[0])\n",
    "# your code here\n",
    "print(count)\n",
    "# Answers should should print out when this cell is run\n",
    "\n"
   ]
  },
  {
   "cell_type": "markdown",
   "metadata": {},
   "source": [
    "10) Find all the teacher who have advisees also as students in their class.  Who has the most advisees as students?"
   ]
  },
  {
   "cell_type": "code",
   "execution_count": 9,
   "metadata": {},
   "outputs": [
    {
     "name": "stdout",
     "output_type": "stream",
     "text": [
      "{'Perry': 1, 'Sikkink': 4, 'Apperson': 5, 'Gilbride': 2, 'Kane': 6, 'Meda': 2, 'Drugan': 3, 'Price': 1, 'McIvor': 2, 'Gregg': 2, 'Bournival': 1, 'Britton': 2, 'Fortner': 3, 'Orr': 2, 'Kimball': 2, 'Boyle': 2, 'Smith': 1, 'Tokarski': 2, 'Weiler': 1, 'Odom': 1, 'Test': 1}\n"
     ]
    }
   ],
   "source": [
    "# insert 10\n",
    "advstuds = {}\n",
    "for line in CONFERENCES:\n",
    "    if line[4] in line[6:13]:\n",
    "        advstuds[line[4]] = advstuds.get(line[4], 0) + 1\n",
    "print(advstuds)\n",
    "# What teacher has the most advisees as students?\n",
    "# ANSWER HERE: KANE"
   ]
  },
  {
   "cell_type": "markdown",
   "metadata": {},
   "source": [
    "11) Make a dictionary called `TEACHERS` where the key is the teacher name and the value is the number of conferences that they need to attend. (Note: you don't want to overcount conferences - even if a teacher is also an advisor, that student's conference should only count for one.) Hint: you might want to use set.\n",
    "\n",
    "Who has most conferences to attend?  How many must they attend?"
   ]
  },
  {
   "cell_type": "code",
   "execution_count": 10,
   "metadata": {},
   "outputs": [
    {
     "name": "stdout",
     "output_type": "stream",
     "text": [
      "61\n"
     ]
    }
   ],
   "source": [
    "# insert 11\n",
    "TEACHERS = {}\n",
    "for line in CONFERENCES:\n",
    "    for teacher in set(line[4:13]):\n",
    "        TEACHERS[teacher] = TEACHERS.get(teacher, 0) + 1\n",
    "print(len(TEACHERS))\n",
    "# shahd, 80"
   ]
  },
  {
   "cell_type": "markdown",
   "metadata": {},
   "source": [
    "12) Matt doesn't want to look at a huge conference schedule. He only wants to see his students. Write a function called `write_schedule` that takes in a teacher_name and writes a file called \"teacher_name.txt\" that only contains the name of that teacher's students and the days and times of their conferences. Since you are writing to a regular text file and not a csv file, don't use csv.writer. Instead, write to a simple text file and separate the info with commas.  The file should be sorted by date and time of the conference.\n",
    "\n",
    "Create an interface that uses this function to print generate a custom schedule for that teacher."
   ]
  },
  {
   "cell_type": "code",
   "execution_count": 22,
   "metadata": {},
   "outputs": [],
   "source": [
    "# insert 12\n",
    "def write_schedule(teacher_name):\n",
    "    dt = []\n",
    "    with open(f'{teacher_name}.txt', 'w') as f:\n",
    "        for line in CONFERENCES:\n",
    "            if teacher_name in line:\n",
    "                dt.append((line[13], line[1], line[0]))\n",
    "        for conf in sorted(dt):\n",
    "            f.write(f'{conf[0]}, {conf[1]} {conf[2]}\\n')\n",
    "write_schedule('Odom')"
   ]
  },
  {
   "cell_type": "markdown",
   "metadata": {},
   "source": [
    "13) Matt knows the conferences are taking place Nov 14-18. He only cares to know if they are on Mon, Tues, Wed, Thurs, or Fri. Write a function that reads in a `teacher_name.txt` file (e.g. Pigg.txt) and creates a new file, called `teacher_name_abbrev.txt` (e.g pigg_abbrev.txt) that changes the dates to just the abbreviated weekday and the time of day.\n",
    "\n"
   ]
  },
  {
   "cell_type": "code",
   "execution_count": 23,
   "metadata": {},
   "outputs": [],
   "source": [
    "# insert 13\n",
    "weekdays = {'14':'Mon',\n",
    "           '15':'Tues',\n",
    "           '16':'Wed',\n",
    "           '17':'Thurs',\n",
    "           '18':'Fri'}\n",
    "def abbrev_sched(teacher_name):\n",
    "    with open(f'{teacher_name}.txt') as f:\n",
    "        abbrev = []\n",
    "        for line in f:\n",
    "            items = line.strip().split()\n",
    "            abbrev.append((weekdays[items[0][8:10]], items[1][:-1]))\n",
    "    f.close()\n",
    "    with open(f'{teacher_name}_abbrev.txt', 'w') as f:\n",
    "        for line in abbrev:\n",
    "            f.write(f'{line[0]}, {line[1]}\\n')\n",
    "abbrev_sched('Odom')"
   ]
  },
  {
   "cell_type": "code",
   "execution_count": 0,
   "metadata": {},
   "outputs": [],
   "source": [
    "# Advisor double bookings can't happen, meaning a teacher can't have an advisee conference and another student's conference at the same time. Write a function called print_conflicts that finds any double bookings and prints the teacher who is double booked and the timeslot of the double booking. How many double bookings are there?"
   ]
  },
  {
   "cell_type": "code",
   "execution_count": 26,
   "metadata": {},
   "outputs": [
    {
     "name": "stdout",
     "output_type": "stream",
     "text": [
      "A. O'Hara has a double booking at 10:30:00 on 16\n",
      "Apperson has a double booking at 14:00:00 on 17\n",
      "Fortner has a double booking at 07:30:00 on 17\n",
      "Gilbride has a double booking at 13:30:00 on 16\n",
      "Odom has a double booking at 10:30:00 on 16\n",
      "Price has a double booking at 07:30:00 on 17\n",
      "Van Wickle has a double booking at 11:00:00 on 16\n",
      "Weiler has a double booking at 14:00:00 on 17\n",
      "Weiler has a double booking at 14:00:00 on 17\n"
     ]
    },
    {
     "data": {
      "text/plain": [
       "9"
      ]
     },
     "execution_count": 26,
     "metadata": {},
     "output_type": "execute_result"
    }
   ],
   "source": [
    "weekdays = {'14':'Mon',\n",
    "           '15':'Tues',\n",
    "           '16':'Wed',\n",
    "           '17':'Thurs',\n",
    "           '18':'Fri'}\n",
    "def print_conflicts():\n",
    "    teachers = [key for key in TEACHERS.keys()]\n",
    "    final = {}\n",
    "    count = 0\n",
    "    teachers.sort()\n",
    "    del teachers[:3]\n",
    "    for teacher in teachers:\n",
    "        adconf = {}\n",
    "        for line in CONFERENCES:\n",
    "            if teacher in line[4]:\n",
    "                if line[-1].split()[0] in adconf.keys():\n",
    "                    adconf[line[-1].split()[0]].append(line[-1].split()[1])\n",
    "                else:\n",
    "                    adconf[line[-1].split()[0]] = [line[-1].split()[1]]\n",
    "        for date, time in adconf.items():\n",
    "            for conference in time:\n",
    "                for line in CONFERENCES:\n",
    "                    if teacher in line[6:13] and line[-1] == f'{date} {conference}' and teacher not in line[4]:\n",
    "                        print(f'{teacher} has a double booking at {conference} on {date[8:10]}')\n",
    "                        count += 1\n",
    "    return(count)\n",
    "print_conflicts()"
   ]
  },
  {
   "cell_type": "code",
   "execution_count": 20,
   "metadata": {},
   "outputs": [
    {
     "name": "stdout",
     "output_type": "stream",
     "text": [
      "{'2022-11-17': {'10:30:00', '10:00:00', '14:00:00', '13:00:00', '07:30:00', '15:00:00', '09:30:00', '14:30:00', '11:00:00'}, '2022-11-16': {'08:00:00', '10:30:00', '10:00:00', '08:30:00', '13:30:00', '16:30:00', '16:00:00'}, '2022-11-18': {'08:00:00', '10:30:00', '12:00:00', '07:30:00', '13:30:00'}, '2022-11-15': {'19:30:00'}, '2022-11-14': {'17:00:00'}}\n"
     ]
    }
   ],
   "source": [
    "# insert 14 here\n",
    "# Q: How many double bookings are there?\n",
    "# Answer:\n",
    "# func named print_conflicts prints the teacher thats double booked and the timeslot\n",
    "def print_conflicts(teacher_name):\n",
    "    confs = {}\n",
    "    dbook = {}\n",
    "    for line in CONFERENCES:\n",
    "        if teacher_name in line:\n",
    "            if line[-1].split()[0] in confs.keys():\n",
    "                confs[line[-1].split()[0]].append(line[-1].split()[1])\n",
    "            else:\n",
    "                confs[line[-1].split()[0]] = [line[-1].split()[1]]\n",
    "                \n",
    "    for date, time in confs.items():\n",
    "        for conference in time:\n",
    "            if time.count(conference) > 1:\n",
    "                if date in dbook.keys():\n",
    "                    dbook[date].add(conference)\n",
    "                else:\n",
    "                    dbook[date] = set([conference])\n",
    "    return(dbook)\n",
    "print(print_conflicts(\"A. O'Hara\"))"
   ]
  },
  {
   "cell_type": "code",
   "execution_count": 107,
   "metadata": {},
   "outputs": [
    {
     "name": "stdout",
     "output_type": "stream",
     "text": [
      "A. O'Hara is double booked on Thurs at ['07:30:00', '09:30:00', '10:00:00', '10:30:00', '11:00:00', '13:00:00', '14:00:00', '14:30:00', '15:00:00']\n",
      "A. O'Hara is double booked on Wed at ['08:00:00', '08:30:00', '10:00:00', '10:30:00', '13:30:00', '16:00:00', '16:30:00']\n",
      "A. O'Hara is double booked on Fri at ['07:30:00', '08:00:00', '10:30:00', '12:00:00', '13:30:00']\n",
      "A. O'Hara is double booked on Tues at ['19:30:00']\n",
      "A. O'Hara is double booked on Mon at ['17:00:00']\n",
      "Al-Jawhari is double booked on Thurs at ['08:00:00', '09:00:00', '11:00:00', '12:30:00', '13:00:00', '13:30:00', '14:30:00', '15:00:00', '15:30:00', '16:00:00', '16:30:00']\n",
      "Al-Jawhari is double booked on Fri at ['08:00:00', '09:00:00', '09:30:00', '10:30:00', '12:00:00', '12:30:00']\n",
      "Al-Jawhari is double booked on Wed at ['08:30:00', '10:30:00', '13:00:00', '14:00:00', '14:30:00', '16:30:00']\n",
      "Al-Jawhari is double booked on Mon at ['16:30:00']\n",
      "Al-Jawhari is double booked on Tues at ['16:30:00']\n",
      "Appel is double booked on Wed at ['08:00:00']\n",
      "Apperson is double booked on Thurs at ['13:00:00', '14:00:00', '15:00:00', '16:00:00']\n",
      "Apperson is double booked on Fri at ['07:30:00', '08:30:00', '09:00:00', '12:00:00', '12:30:00', '13:00:00', '14:00:00', '14:30:00']\n",
      "Apperson is double booked on Wed at ['09:30:00', '11:00:00', '15:00:00', '16:00:00', '16:30:00']\n",
      "Apperson is double booked on Mon at ['16:30:00']\n",
      "Biswas is double booked on Fri at ['09:00:00', '12:00:00', '14:00:00', '14:30:00', '15:00:00']\n",
      "Biswas is double booked on Thurs at ['13:00:00', '14:30:00']\n",
      "Biswas is double booked on Tues at ['18:30:00', '20:00:00']\n",
      "Biswas is double booked on Mon at ['18:30:00']\n",
      "Biswas is double booked on Wed at ['10:00:00', '15:30:00', '16:30:00']\n",
      "Bournival is double booked on Mon at ['16:30:00', '17:00:00', '20:30:00']\n",
      "Bournival is double booked on Fri at ['08:00:00', '08:30:00', '14:30:00']\n",
      "Bournival is double booked on Wed at ['09:00:00', '10:00:00', '11:00:00']\n",
      "Bournival is double booked on Thurs at ['07:30:00']\n",
      "Bournival is double booked on Tues at ['16:30:00', '18:30:00']\n",
      "Boyle is double booked on Wed at ['10:30:00', '11:00:00', '13:00:00', '16:30:00']\n",
      "Boyle is double booked on Thurs at ['08:00:00', '09:00:00', '10:30:00', '11:00:00', '13:00:00', '13:30:00', '14:00:00', '14:30:00', '15:00:00', '15:30:00']\n",
      "Boyle is double booked on Fri at ['07:30:00', '08:30:00', '09:00:00', '09:30:00', '10:00:00', '14:00:00']\n",
      "Britton is double booked on Fri at ['12:30:00', '13:00:00', '14:00:00']\n",
      "Britton is double booked on Wed at ['08:00:00', '08:30:00', '10:30:00', '11:00:00', '13:30:00', '14:30:00']\n",
      "Britton is double booked on Thurs at ['08:30:00', '09:00:00', '09:30:00', '13:30:00', '15:30:00']\n",
      "Britton is double booked on Tues at ['18:30:00']\n",
      "Brown is double booked on Wed at ['08:00:00', '08:30:00']\n",
      "Brown is double booked on Fri at ['09:00:00', '10:30:00']\n",
      "Buonincontro is double booked on Fri at ['09:30:00']\n",
      "Buonincontro is double booked on Thurs at ['09:00:00']\n",
      "Buonincontro is double booked on Tues at ['20:30:00']\n",
      "Caditz is double booked on Fri at ['08:00:00', '08:30:00', '12:30:00', '14:30:00']\n",
      "Caditz is double booked on Wed at ['08:00:00', '08:30:00', '09:00:00', '10:30:00', '13:00:00', '14:00:00', '14:30:00', '16:00:00', '16:30:00']\n",
      "Caditz is double booked on Thurs at ['08:30:00', '09:00:00', '15:00:00', '15:30:00', '16:00:00', '16:30:00']\n",
      "Caditz is double booked on Mon at ['16:00:00']\n",
      "Drugan is double booked on Fri at ['08:30:00', '09:00:00']\n",
      "Drugan is double booked on Thurs at ['09:00:00', '11:00:00', '12:30:00', '14:30:00', '15:30:00', '16:30:00']\n",
      "Drugan is double booked on Tues at ['18:30:00', '19:30:00', '20:30:00']\n",
      "Drugan is double booked on Wed at ['09:00:00', '12:30:00', '13:00:00', '14:00:00', '15:30:00']\n",
      "Drugan is double booked on Mon at ['20:00:00']\n",
      "Fortner is double booked on Fri at ['09:00:00', '09:30:00', '12:00:00', '13:30:00']\n",
      "Fortner is double booked on Wed at ['09:00:00', '10:00:00', '11:00:00', '13:00:00', '14:00:00', '15:30:00', '16:30:00']\n",
      "Fortner is double booked on Thurs at ['07:30:00', '09:00:00', '10:30:00', '12:30:00', '14:30:00', '15:00:00', '16:30:00']\n",
      "Fortner is double booked on Mon at ['16:00:00']\n",
      "Gilbride is double booked on Wed at ['08:30:00', '10:00:00', '13:30:00', '14:30:00', '16:00:00']\n",
      "Gilbride is double booked on Thurs at ['08:30:00', '13:00:00']\n",
      "Gilbride is double booked on Fri at ['10:00:00', '10:30:00', '12:30:00', '13:30:00']\n",
      "Gregg is double booked on Thurs at ['07:30:00', '08:00:00', '09:00:00', '11:00:00', '12:30:00', '13:30:00', '14:30:00', '15:30:00', '16:30:00']\n",
      "Gregg is double booked on Wed at ['08:30:00', '10:30:00', '14:00:00', '14:30:00']\n",
      "Gregg is double booked on Fri at ['08:30:00', '09:00:00', '09:30:00', '13:30:00', '14:00:00']\n",
      "Gregg is double booked on Tues at ['20:30:00']\n",
      "Hansen is double booked on Wed at ['09:30:00', '13:00:00', '13:30:00', '15:00:00', '15:30:00']\n",
      "Hansen is double booked on Thurs at ['10:00:00', '12:30:00', '13:30:00', '15:00:00', '16:00:00', '16:30:00']\n",
      "Hansen is double booked on Fri at ['09:00:00', '12:00:00', '12:30:00']\n",
      "Hansen is double booked on Mon at ['16:30:00', '17:30:00']\n",
      "Henkle is double booked on Thurs at ['09:30:00', '10:00:00', '10:30:00', '13:00:00', '14:00:00', '15:00:00']\n",
      "Henkle is double booked on Wed at ['08:00:00', '09:00:00', '09:30:00', '10:00:00', '11:00:00', '13:30:00', '14:30:00', '16:00:00', '16:30:00']\n",
      "Henkle is double booked on Mon at ['16:00:00']\n",
      "Henkle is double booked on Fri at ['08:00:00', '09:30:00', '10:30:00', '13:30:00', '14:00:00', '14:30:00']\n",
      "Henry is double booked on Thurs at ['08:00:00', '08:30:00', '09:00:00', '10:00:00', '10:30:00', '14:00:00', '14:30:00', '15:00:00', '16:30:00']\n",
      "Henry is double booked on Fri at ['08:00:00', '12:00:00', '12:30:00', '13:30:00']\n",
      "Henry is double booked on Wed at ['10:30:00', '13:00:00', '15:00:00']\n",
      "Jack is double booked on Mon at ['17:30:00']\n",
      "Jack is double booked on Fri at ['09:00:00', '15:00:00']\n",
      "Jack is double booked on Tues at ['20:00:00']\n",
      "Kane is double booked on Fri at ['07:30:00', '08:00:00', '09:30:00', '10:30:00', '14:30:00']\n",
      "Kane is double booked on Wed at ['08:30:00', '10:00:00', '10:30:00']\n",
      "Kane is double booked on Thurs at ['07:30:00', '08:30:00', '09:00:00', '09:30:00', '13:00:00', '14:00:00', '15:30:00', '16:00:00']\n",
      "Kane is double booked on Tues at ['16:30:00']\n",
      "Kimball is double booked on Thurs at ['08:00:00', '08:30:00', '09:30:00', '10:00:00', '10:30:00', '11:00:00', '13:00:00', '13:30:00', '14:00:00', '14:30:00', '15:00:00', '16:30:00']\n",
      "Kimball is double booked on Fri at ['08:00:00', '09:00:00', '10:00:00', '10:30:00', '12:30:00', '13:30:00', '14:00:00']\n",
      "Kimball is double booked on Wed at ['09:30:00', '13:00:00', '14:00:00', '14:30:00', '15:00:00', '16:00:00']\n",
      "Kimball is double booked on Mon at ['16:30:00']\n",
      "McIvor is double booked on Thurs at ['08:00:00', '09:00:00', '10:00:00', '12:30:00', '15:00:00']\n",
      "McIvor is double booked on Wed at ['09:30:00', '15:30:00']\n",
      "McIvor is double booked on Fri at ['08:00:00', '12:30:00']\n",
      "Meda is double booked on Thurs at ['07:30:00', '08:30:00', '10:30:00', '14:30:00', '15:00:00', '16:00:00']\n",
      "Meda is double booked on Wed at ['08:30:00', '10:30:00', '12:30:00', '13:00:00', '15:00:00', '15:30:00', '16:30:00']\n",
      "Meda is double booked on Fri at ['07:30:00', '08:30:00', '12:00:00', '14:30:00']\n",
      "Meda is double booked on Tues at ['19:30:00']\n",
      "Meda is double booked on Mon at ['17:00:00', '20:30:00']\n",
      "Odom is double booked on Thurs at ['09:30:00', '10:30:00', '13:30:00', '14:30:00', '15:30:00', '16:30:00']\n",
      "Odom is double booked on Fri at ['08:00:00', '08:30:00', '09:00:00', '10:00:00', '12:00:00', '12:30:00', '14:00:00']\n",
      "Odom is double booked on Wed at ['08:30:00', '09:30:00', '10:00:00', '10:30:00', '11:00:00', '12:30:00', '13:30:00', '15:30:00']\n",
      "Odom is double booked on Mon at ['16:30:00', '20:30:00']\n",
      "Odom is double booked on Tues at ['16:30:00', '19:30:00']\n",
      "Orr is double booked on Fri at ['07:30:00', '08:00:00', '08:30:00', '09:00:00', '10:00:00', '12:00:00', '13:00:00', '14:30:00']\n",
      "Orr is double booked on Wed at ['10:00:00', '10:30:00', '13:30:00', '15:00:00', '16:30:00']\n",
      "Orr is double booked on Mon at ['17:30:00', '20:00:00']\n",
      "Orr is double booked on Thurs at ['08:00:00', '12:30:00', '13:00:00', '15:30:00']\n",
      "Orr is double booked on Tues at ['20:00:00']\n",
      "Perry is double booked on Thurs at ['10:00:00', '12:30:00', '15:30:00']\n",
      "Perry is double booked on Fri at ['13:00:00']\n",
      "Perry is double booked on Wed at ['13:30:00', '14:00:00', '15:00:00']\n",
      "Pigg is double booked on Fri at ['09:00:00']\n",
      "Pigg is double booked on Tues at ['18:30:00', '19:30:00']\n",
      "Pigg is double booked on Wed at ['09:30:00', '15:30:00', '16:30:00']\n",
      "Pigg is double booked on Thurs at ['07:30:00', '08:00:00', '08:30:00', '10:30:00', '15:30:00']\n",
      "Pigg is double booked on Mon at ['16:00:00', '18:30:00']\n",
      "Portman is double booked on Thurs at ['08:30:00', '09:00:00', '10:30:00', '14:30:00', '16:00:00', '16:30:00']\n",
      "Portman is double booked on Fri at ['08:30:00', '09:00:00', '09:30:00', '14:30:00']\n",
      "Portman is double booked on Wed at ['12:30:00', '15:30:00']\n",
      "Portman is double booked on Tues at ['19:30:00']\n",
      "Price is double booked on Thurs at ['07:30:00', '13:00:00', '14:00:00', '15:00:00']\n",
      "Price is double booked on Fri at ['08:30:00']\n",
      "Price is double booked on Wed at ['10:00:00', '13:00:00']\n",
      "Price is double booked on Mon at ['18:30:00']\n",
      "R. O'Hara is double booked on Fri at ['07:30:00', '09:30:00', '10:30:00', '13:30:00']\n",
      "R. O'Hara is double booked on Wed at ['11:00:00', '12:30:00']\n",
      "R. O'Hara is double booked on Thurs at ['07:30:00', '14:00:00', '16:00:00']\n",
      "R. O'Hara is double booked on Mon at ['17:00:00']\n",
      "Reaves is double booked on Thurs at ['07:30:00', '08:00:00', '11:00:00']\n",
      "Reaves is double booked on Fri at ['07:30:00', '10:00:00', '14:30:00']\n",
      "Reaves is double booked on Wed at ['08:30:00', '11:00:00', '12:30:00', '16:30:00']\n",
      "Reaves is double booked on Tues at ['20:00:00', '20:30:00']\n",
      "Reaves is double booked on Mon at ['20:00:00']\n",
      "Sathyaraj is double booked on Thurs at ['07:30:00', '08:00:00', '08:30:00', '12:30:00', '13:30:00']\n",
      "Sathyaraj is double booked on Wed at ['10:30:00', '16:30:00']\n",
      "Sathyaraj is double booked on Fri at ['14:30:00', '15:00:00']\n",
      "Sathyaraj is double booked on Mon at ['17:30:00', '18:30:00']\n",
      "Sathyaraj is double booked on Tues at ['19:30:00', '20:30:00']\n",
      "Sikkink is double booked on Fri at ['07:30:00', '08:00:00', '09:00:00', '10:30:00', '12:30:00', '13:00:00', '14:00:00', '14:30:00', '15:00:00']\n",
      "Sikkink is double booked on Thurs at ['08:00:00', '09:30:00', '12:30:00', '15:00:00']\n",
      "Sikkink is double booked on Wed at ['09:00:00', '09:30:00', '12:30:00', '14:00:00', '16:30:00']\n",
      "Sikkink is double booked on Tues at ['19:30:00']\n",
      "Slenning is double booked on Wed at ['08:30:00', '09:00:00', '09:30:00', '12:30:00', '14:30:00', '15:30:00', '16:00:00', '16:30:00']\n",
      "Slenning is double booked on Fri at ['07:30:00', '08:00:00', '10:00:00', '10:30:00', '12:30:00', '14:00:00', '14:30:00', '15:00:00']\n",
      "Slenning is double booked on Tues at ['20:00:00', '20:30:00']\n",
      "Slenning is double booked on Mon at ['18:30:00', '20:00:00']\n",
      "Slenning is double booked on Thurs at ['08:30:00']\n",
      "Smith is double booked on Thurs at ['13:00:00']\n",
      "Smith is double booked on Wed at ['14:30:00']\n",
      "Standley is double booked on Wed at ['09:30:00', '15:30:00', '16:00:00', '16:30:00']\n",
      "Standley is double booked on Thurs at ['12:30:00', '13:30:00', '14:30:00', '16:30:00']\n",
      "Standley is double booked on Fri at ['07:30:00', '08:00:00', '12:30:00', '14:30:00']\n",
      "Standley is double booked on Tues at ['19:30:00']\n",
      "Steele is double booked on Thurs at ['09:00:00']\n",
      "Steele is double booked on Wed at ['14:30:00', '16:30:00']\n",
      "Steele is double booked on Fri at ['13:30:00']\n",
      "Steele is double booked on Tues at ['19:00:00']\n",
      "Stone is double booked on Fri at ['09:00:00', '14:30:00']\n",
      "Stone is double booked on Thurs at ['09:30:00']\n",
      "Stone is double booked on Tues at ['18:30:00']\n",
      "Tokarski is double booked on Fri at ['08:30:00', '09:00:00', '09:30:00', '10:30:00', '12:00:00', '12:30:00']\n",
      "Tokarski is double booked on Thurs at ['08:00:00', '13:00:00', '13:30:00', '14:30:00', '15:00:00', '15:30:00', '16:00:00', '16:30:00']\n",
      "Tokarski is double booked on Wed at ['08:00:00', '08:30:00', '13:00:00', '13:30:00', '16:00:00']\n",
      "Tokarski is double booked on Tues at ['19:30:00']\n",
      "Van Wickle is double booked on Fri at ['07:30:00', '08:00:00', '12:00:00', '12:30:00', '13:30:00', '14:00:00']\n",
      "Van Wickle is double booked on Wed at ['09:30:00', '10:00:00', '11:00:00', '13:30:00', '15:00:00']\n",
      "Van Wickle is double booked on Thurs at ['07:30:00', '08:00:00', '08:30:00', '09:00:00', '10:30:00', '12:30:00', '13:00:00', '16:00:00']\n",
      "Van Wickle is double booked on Mon at ['18:30:00']\n",
      "Weiler is double booked on Thurs at ['14:00:00', '16:00:00']\n",
      "Weiler is double booked on Fri at ['14:00:00']\n",
      "Zanchettin is double booked on Thurs at ['08:30:00', '10:30:00', '13:00:00', '14:00:00', '14:30:00']\n",
      "Zanchettin is double booked on Wed at ['13:30:00', '15:00:00', '16:00:00']\n",
      "Zanchettin is double booked on Fri at ['08:30:00']\n",
      "588\n"
     ]
    }
   ],
   "source": [
    "weekdays = {'14':'Mon',\n",
    "           '15':'Tues',\n",
    "           '16':'Wed',\n",
    "           '17':'Thurs',\n",
    "           '18':'Fri'}\n",
    "def print_conflicts():\n",
    "    teachers = [key for key in TEACHERS.keys()]\n",
    "    final = {}\n",
    "    count = 0\n",
    "    teachers.sort()\n",
    "    del teachers[:3]\n",
    "\n",
    "    for t_name in teachers:\n",
    "        confs = {}\n",
    "        dbook = {}\n",
    "        for line in CONFERENCES:\n",
    "            if t_name in line[4] or t_name in line[6:13]:\n",
    "                if line[-1].split()[0] in confs.keys():\n",
    "                    confs[line[-1].split()[0]].append(line[-1].split()[1])\n",
    "                else:\n",
    "                    confs[line[-1].split()[0]] = [line[-1].split()[1]]\n",
    "\n",
    "        for date, time in confs.items():\n",
    "            for conference in sorted(time):\n",
    "                if time.count(conference) > 1:\n",
    "                    if date in dbook.keys():\n",
    "                        dbook[date].add(conference)\n",
    "                    else:\n",
    "                        dbook[date] = set([conference])\n",
    "        final[t_name] = dbook\n",
    "    for teacher, bookings in final.items():\n",
    "        for date, conf in bookings.items():\n",
    "            print(f'{teacher} is double booked on {weekdays[date[8:10]]} at {sorted(conf)}')\n",
    "            for item in conf:\n",
    "                count += 1\n",
    "    return(count)\n",
    "print(print_conflicts())"
   ]
  },
  {
   "cell_type": "code",
   "execution_count": 0,
   "metadata": {},
   "outputs": [],
   "source": []
  }
 ],
 "metadata": {
  "kernelspec": {
   "display_name": "Python 3 (ipykernel)",
   "language": "python",
   "name": "python3"
  },
  "language_info": {
   "codemirror_mode": {
    "name": "ipython",
    "version": 3
   },
   "file_extension": ".py",
   "mimetype": "text/x-python",
   "name": "python",
   "nbconvert_exporter": "python",
   "pygments_lexer": "ipython3",
   "version": "3.9.13"
  }
 },
 "nbformat": 4,
 "nbformat_minor": 4
}
